{
 "cells": [
  {
   "cell_type": "code",
   "execution_count": 2,
   "metadata": {
    "collapsed": true
   },
   "outputs": [],
   "source": [
    "# Data Processing Part 3: Cu, Ni, and Zn filters\n",
    "\n",
    "# Something is wrong in K-edge cal of Cu/Zn\n",
    "\n",
    "# Source of table values: http://skuld.bmsc.washington.edu/scatter/AS_periodic.html"
   ]
  },
  {
   "cell_type": "code",
   "execution_count": 3,
   "metadata": {
    "collapsed": true
   },
   "outputs": [],
   "source": [
    "import matplotlib.pyplot as plt\n",
    "import numpy as np\n",
    "import math"
   ]
  },
  {
   "cell_type": "code",
   "execution_count": 4,
   "metadata": {
    "collapsed": true
   },
   "outputs": [],
   "source": [
    "#From 35kV in \"LiF plots\"\n",
    "corr = 2.154 "
   ]
  },
  {
   "cell_type": "code",
   "execution_count": 5,
   "metadata": {
    "collapsed": true
   },
   "outputs": [],
   "source": [
    "# Equations:\n",
    "h_p = 4.136*10**(-15) #in eV*s\n",
    "c_light = 2.9979*10**8 # in m/s\n",
    "d_LiF = 2.014*10**(-10) # in m\n",
    "\n",
    "def energy(x): #comes out in eV\n",
    "    E = (h_p*c_light)/(2*d_LiF*math.sin(x*math.pi/180))\n",
    "    return E\n"
   ]
  },
  {
   "cell_type": "code",
   "execution_count": 6,
   "metadata": {
    "collapsed": false
   },
   "outputs": [],
   "source": [
    "#C:/Users/kylli/Dropbox/LiF"
   ]
  },
  {
   "cell_type": "code",
   "execution_count": 7,
   "metadata": {
    "collapsed": true
   },
   "outputs": [],
   "source": [
    "# No filter"
   ]
  },
  {
   "cell_type": "code",
   "execution_count": 8,
   "metadata": {
    "collapsed": true
   },
   "outputs": [],
   "source": [
    "#data_LiF_35kV = open('/Users/QDevMaster12/Dropbox/LiF/anode_characterization_35kV_15-25angle_nofilter_001-kopi', 'r')\n",
    "\n",
    "data_LiF_35kV = open('C:/Users/kylli/Dropbox/LiF/anode_characterization_35kV_15-25angle_nofilter_001-kopi', 'r')\n",
    "\n",
    "rows = []\n",
    "rows2= []\n",
    "for line in data_LiF_35kV:\n",
    "    # Split on any whitespace (including tab characters)\n",
    "    row = line.split()\n",
    "    # Convert strings to numeric values:\n",
    "    row[0] = float(row[0])\n",
    "    row[1] = int(row[1])\n",
    "    # Append to our list of lists:\n",
    "    rows.append(row[0])\n",
    "    rows2.append(row[1])"
   ]
  },
  {
   "cell_type": "code",
   "execution_count": 9,
   "metadata": {
    "collapsed": true
   },
   "outputs": [],
   "source": [
    "# Correcting the angle:\n",
    "#corr = 1.9911044777040612 #From 35kV in \"LiF plots\"\n",
    "rows_corr = [x-corr for x in rows]"
   ]
  },
  {
   "cell_type": "code",
   "execution_count": 10,
   "metadata": {
    "collapsed": false
   },
   "outputs": [],
   "source": [
    "# Plotting and saving new \n",
    "plt.cla()   # Clear axis\n",
    "plt.clf()   # Clear figure\n",
    "plt.close() # Close a figure window\n",
    "\n",
    "plt.plot(rows_corr,rows2)\n",
    "plt.xlabel(\"$\\\\theta$\")\n",
    "plt.ylabel(\"Intensity\")\n",
    "#plt.xlim(10,15)\n",
    "#plt.show()\n",
    "plt.savefig(\"Part3_Ni_filter_corr.png\")"
   ]
  },
  {
   "cell_type": "code",
   "execution_count": 11,
   "metadata": {
    "collapsed": true
   },
   "outputs": [],
   "source": [
    "# Rewrite angles as energies\n",
    "e_angles = []\n",
    "for x in range(len(rows_corr)):\n",
    "    e_angle = energy(rows_corr[x])\n",
    "    e_angles.append(e_angle)\n",
    "\n",
    "#print(e_angles)"
   ]
  },
  {
   "cell_type": "code",
   "execution_count": 12,
   "metadata": {
    "collapsed": true
   },
   "outputs": [],
   "source": [
    "# Saving rows for later plotting:\n",
    "ang_no_filter = rows_corr\n",
    "int_no_filter = rows2\n",
    "e_no_filter = e_angles"
   ]
  },
  {
   "cell_type": "code",
   "execution_count": null,
   "metadata": {
    "collapsed": true
   },
   "outputs": [],
   "source": []
  },
  {
   "cell_type": "code",
   "execution_count": 13,
   "metadata": {
    "collapsed": true
   },
   "outputs": [],
   "source": [
    "# Ni filter"
   ]
  },
  {
   "cell_type": "code",
   "execution_count": 14,
   "metadata": {
    "collapsed": false
   },
   "outputs": [],
   "source": [
    "#data_LiF_Ni = open('/Users/QDevMaster12/Dropbox/LiF/anode_characterization_35kV_15-25angle_ni-filter_001-kopi', 'r')\n",
    "\n",
    "data_LiF_Ni = open('C:/Users/kylli/Dropbox/LiF/anode_characterization_35kV_15-25angle_ni-filter_001-kopi', 'r')\n",
    "\n",
    "rows = []\n",
    "rows2= []\n",
    "for line in data_LiF_Ni:\n",
    "    # Split on any whitespace (including tab characters)\n",
    "    row = line.split()\n",
    "    # Convert strings to numeric values:\n",
    "    row[0] = float(row[0])\n",
    "    row[1] = int(row[1])\n",
    "    # Append to our list of lists:\n",
    "    rows.append(row[0])\n",
    "    rows2.append(row[1])\n"
   ]
  },
  {
   "cell_type": "code",
   "execution_count": null,
   "metadata": {
    "collapsed": false
   },
   "outputs": [],
   "source": []
  },
  {
   "cell_type": "code",
   "execution_count": 15,
   "metadata": {
    "collapsed": false
   },
   "outputs": [],
   "source": [
    "# Plotting and saving raw, un-corrected data\n",
    "#plt.plot(rows,rows2)\n",
    "#plt.xlabel(\"$\\\\theta$\")\n",
    "#plt.ylabel(\"Intensity\")\n",
    "#plt.xlim(10,15)\n",
    "#plt.show()\n",
    "#plt.savefig(\"Zn_No_filter.png\")"
   ]
  },
  {
   "cell_type": "code",
   "execution_count": 16,
   "metadata": {
    "collapsed": false
   },
   "outputs": [],
   "source": [
    "#Zero-point correction calculation:\n",
    "# What should we do here?\n",
    "# Jacob suggests: Use the correction from the first measurement\n",
    "#corr = 1.9911044777040612 #From 35kV in \"LiF plots\""
   ]
  },
  {
   "cell_type": "code",
   "execution_count": 17,
   "metadata": {
    "collapsed": false
   },
   "outputs": [],
   "source": [
    "# Correcting the angle:\n",
    "rows_corr = [x-corr for x in rows]\n"
   ]
  },
  {
   "cell_type": "code",
   "execution_count": 18,
   "metadata": {
    "collapsed": false
   },
   "outputs": [
    {
     "data": {
      "image/png": "[encoded data removed]",
      "text/plain": [
       "<matplotlib.figure.Figure at 0x17c5df45b00>"
      ]
     },
     "metadata": {},
     "output_type": "display_data"
    }
   ],
   "source": [
    "# Plotting and saving new \n",
    "plt.cla()   # Clear axis\n",
    "plt.clf()   # Clear figure\n",
    "plt.close() # Close a figure window\n",
    "\n",
    "plt.plot(rows_corr,rows2)\n",
    "plt.xlabel(\"$\\\\theta$\")\n",
    "plt.ylabel(\"Intensity\")\n",
    "#plt.xlim(10,15)\n",
    "plt.show()\n",
    "#plt.savefig(\"Part3_Ni_filter_corr.png\")"
   ]
  },
  {
   "cell_type": "code",
   "execution_count": 19,
   "metadata": {
    "collapsed": false
   },
   "outputs": [],
   "source": [
    "# Rewrite angles as energies\n",
    "e_angles = []\n",
    "for x in range(len(rows_corr)):\n",
    "    e_angle = energy(rows_corr[x])\n",
    "    e_angles.append(e_angle)\n",
    "\n",
    "#print(e_angles)"
   ]
  },
  {
   "cell_type": "code",
   "execution_count": 20,
   "metadata": {
    "collapsed": true
   },
   "outputs": [],
   "source": [
    "# Saving rows for later plotting:\n",
    "ang_Ni = rows_corr\n",
    "int_Ni = rows2\n",
    "e_Ni = e_angles"
   ]
  },
  {
   "cell_type": "code",
   "execution_count": 21,
   "metadata": {
    "collapsed": false
   },
   "outputs": [
    {
     "name": "stdout",
     "output_type": "stream",
     "text": [
      "For Ni filter:\n",
      "- theta (measured) = 18.9089\n",
      "- K-edge (calculated) = 9498.978858601537 eV\n",
      "- K-edge (table) = 8.3328 keV\n",
      "- Discrepancy = 12.276886557606502 %\n"
     ]
    }
   ],
   "source": [
    "# Data processing Part 3 for Ni filter\n",
    "# Finding K-edge angle, energy (eV) and discrepancy (%)\n",
    "\n",
    "#theta_Ni = 18.4089 #Value between the two small peaks\n",
    "theta_Ni = 18.9089\n",
    "e_K_edge_Ni = energy(theta_Ni)\n",
    "Edge_Ni_table = 8.3328 # in keV\n",
    "Ni_discrepancy = 100 - (Edge_Ni_table/(e_K_edge_Ni/1000))*100\n",
    "\n",
    "print(\"For Ni filter:\")\n",
    "print(\"- theta (measured) =\", theta_Ni)\n",
    "print(\"- K-edge (calculated) =\", e_K_edge_Ni, \"eV\")\n",
    "print(\"- K-edge (table) =\", Edge_Ni_table, \"keV\")\n",
    "print(\"- Discrepancy =\", Ni_discrepancy, \"%\")"
   ]
  },
  {
   "cell_type": "code",
   "execution_count": null,
   "metadata": {
    "collapsed": false
   },
   "outputs": [],
   "source": []
  },
  {
   "cell_type": "code",
   "execution_count": 22,
   "metadata": {
    "collapsed": false
   },
   "outputs": [],
   "source": [
    "# For Cu filter"
   ]
  },
  {
   "cell_type": "code",
   "execution_count": 23,
   "metadata": {
    "collapsed": false
   },
   "outputs": [],
   "source": [
    "#data_LiF_Cu = open('/Users/QDevMaster12/Dropbox/LiF/anode_characterization_35kV_15-25angle_cu-filter_001-kopi', 'r')\n",
    "\n",
    "data_LiF_Cu = open('C:/Users/kylli/Dropbox/LiF/anode_characterization_35kV_15-25angle_cu-filter_001-kopi', 'r')\n",
    "\n",
    "rows = []\n",
    "rows2= []\n",
    "for line in data_LiF_Cu:\n",
    "    # Split on any whitespace (including tab characters)\n",
    "    row = line.split()\n",
    "    # Convert strings to numeric values:\n",
    "    row[0] = float(row[0])\n",
    "    row[1] = int(row[1])\n",
    "    # Append to our list of lists:\n",
    "    rows.append(row[0])\n",
    "    rows2.append(row[1])\n"
   ]
  },
  {
   "cell_type": "code",
   "execution_count": 24,
   "metadata": {
    "collapsed": true
   },
   "outputs": [],
   "source": [
    "# Correcting the angle:\n",
    "#corr = 1.9911044777040612 #From 35kV in \"LiF plots\"\n",
    "rows_corr = [x-corr for x in rows]\n"
   ]
  },
  {
   "cell_type": "code",
   "execution_count": 25,
   "metadata": {
    "collapsed": false
   },
   "outputs": [],
   "source": [
    "# Plotting and saving new \n",
    "plt.cla()   # Clear axis\n",
    "plt.clf()   # Clear figure\n",
    "plt.close() # Close a figure window\n",
    "\n",
    "plt.plot(rows_corr,rows2)\n",
    "plt.xlabel(\"$\\\\theta$\")\n",
    "plt.ylabel(\"Intensity\")\n",
    "#plt.xlim(10,15)\n",
    "#plt.show()\n",
    "plt.savefig(\"Part3_Cu_filter_corr.png\")"
   ]
  },
  {
   "cell_type": "code",
   "execution_count": 26,
   "metadata": {
    "collapsed": true
   },
   "outputs": [],
   "source": [
    "# Rewrite angles as energies\n",
    "e_angles = []\n",
    "for x in range(len(rows_corr)):\n",
    "    e_angle = energy(rows_corr[x])\n",
    "    e_angles.append(e_angle)\n",
    "\n",
    "#print(e_angles)"
   ]
  },
  {
   "cell_type": "code",
   "execution_count": 27,
   "metadata": {
    "collapsed": true
   },
   "outputs": [],
   "source": [
    "# Saving rows for later plotting:\n",
    "ang_Cu = rows_corr\n",
    "int_Cu = rows2\n",
    "e_Cu = e_angles"
   ]
  },
  {
   "cell_type": "code",
   "execution_count": 28,
   "metadata": {
    "collapsed": false
   },
   "outputs": [
    {
     "name": "stdout",
     "output_type": "stream",
     "text": [
      "For Cu filter:\n",
      "- theta (measured) = 18.4089\n",
      "- K-edge (calculated) = 9747.674073605664 eV\n",
      "- K-edge (table) = 8.9789 keV\n",
      "- Discrepancy = 7.886743727791611 %\n"
     ]
    }
   ],
   "source": [
    "# Data processing Part 3 for Cu filter\n",
    "# Finding K-edge angle, energy (eV) and discrepancy (%)\n",
    "\n",
    "theta_Cu = 18.4089\n",
    "e_K_edge_Cu = energy(theta_Cu) #in eV\n",
    "Edge_Cu_table = 8.9789 # in keV\n",
    "Cu_discrepancy = 100 - (Edge_Cu_table/(e_K_edge_Cu/1000))*100 # in %\n",
    "\n",
    "print(\"For Cu filter:\")\n",
    "print(\"- theta (measured) =\", theta_Cu)\n",
    "print(\"- K-edge (calculated) =\", e_K_edge_Cu, \"eV\")\n",
    "print(\"- K-edge (table) =\", Edge_Cu_table, \"keV\")\n",
    "print(\"- Discrepancy =\", Cu_discrepancy, \"%\")"
   ]
  },
  {
   "cell_type": "code",
   "execution_count": null,
   "metadata": {
    "collapsed": false
   },
   "outputs": [],
   "source": []
  },
  {
   "cell_type": "code",
   "execution_count": 29,
   "metadata": {
    "collapsed": true
   },
   "outputs": [],
   "source": [
    "# For Zn filter"
   ]
  },
  {
   "cell_type": "code",
   "execution_count": 30,
   "metadata": {
    "collapsed": true
   },
   "outputs": [],
   "source": [
    "#data_LiF_Zn = open('/Users/QDevMaster12/Dropbox/LiF/anode_characterization_35kV_15-25angle_zn-filter_001-kopi', 'r')\n",
    "\n",
    "data_LiF_Zn = open('C:/Users/kylli/Dropbox/LiF/anode_characterization_35kV_15-25angle_zn-filter_001-kopi', 'r')\n",
    "\n",
    "rows = []\n",
    "rows2= []\n",
    "for line in data_LiF_Zn:\n",
    "    # Split on any whitespace (including tab characters)\n",
    "    row = line.split()\n",
    "    # Convert strings to numeric values:\n",
    "    row[0] = float(row[0])\n",
    "    row[1] = int(row[1])\n",
    "    # Append to our list of lists:\n",
    "    rows.append(row[0])\n",
    "    rows2.append(row[1])\n"
   ]
  },
  {
   "cell_type": "code",
   "execution_count": 31,
   "metadata": {
    "collapsed": true
   },
   "outputs": [],
   "source": [
    "# Correcting the angle:\n",
    "#corr = 1.9911044777040612 #From 35kV in \"LiF plots\"\n",
    "rows_corr = [x-corr for x in rows]"
   ]
  },
  {
   "cell_type": "code",
   "execution_count": 32,
   "metadata": {
    "collapsed": false
   },
   "outputs": [],
   "source": [
    "# Plotting and saving new \n",
    "plt.cla()   # Clear axis\n",
    "plt.clf()   # Clear figure\n",
    "plt.close() # Close a figure window\n",
    "\n",
    "plt.plot(rows_corr,rows2)\n",
    "plt.xlabel(\"$\\\\theta$\")\n",
    "plt.ylabel(\"Intensity\")\n",
    "#plt.xlim(18,20)\n",
    "#plt.show()\n",
    "plt.savefig(\"Part3_Zn_filter_corr.png\")"
   ]
  },
  {
   "cell_type": "code",
   "execution_count": 33,
   "metadata": {
    "collapsed": true
   },
   "outputs": [],
   "source": [
    "# Rewrite angles as energies\n",
    "e_angles = []\n",
    "for x in range(len(rows_corr)):\n",
    "    e_angle = energy(rows_corr[x])\n",
    "    e_angles.append(e_angle)\n",
    "\n",
    "#print(e_angles)"
   ]
  },
  {
   "cell_type": "code",
   "execution_count": 34,
   "metadata": {
    "collapsed": true
   },
   "outputs": [],
   "source": [
    "# Saving rows for later plotting:\n",
    "ang_Zn = rows_corr\n",
    "int_Zn = rows2\n",
    "e_Zn = e_angles"
   ]
  },
  {
   "cell_type": "code",
   "execution_count": 35,
   "metadata": {
    "collapsed": false
   },
   "outputs": [
    {
     "name": "stdout",
     "output_type": "stream",
     "text": [
      "For Zn filter:\n",
      "- theta (measured) = 18.4089\n",
      "- K-edge (calculated) = 9747.674073605664 eV\n",
      "- K-edge (table) = 9.6586 keV\n",
      "- Discrepancy = 0.9137982346666149 %\n"
     ]
    }
   ],
   "source": [
    "# Data processing Part 3 for Zn filter\n",
    "# Finding K-edge angle, energy (eV) and discrepancy (%)\n",
    "\n",
    "theta_Zn = 18.40890\n",
    "#theta_Zn = 18.80890  # There was two values for Zn, this one is farther from the table value\n",
    "e_K_edge_Zn = energy(theta_Zn)\n",
    "Edge_Zn_table = 9.6586 # in keV\n",
    "Zn_discrepancy = 100 - (Edge_Zn_table/(e_K_edge_Zn/1000))*100\n",
    "\n",
    "print(\"For Zn filter:\")\n",
    "print(\"- theta (measured) =\", theta_Zn)\n",
    "print(\"- K-edge (calculated) =\", e_K_edge_Zn, \"eV\")\n",
    "print(\"- K-edge (table) =\", Edge_Zn_table, \"keV\")\n",
    "print(\"- Discrepancy =\", Zn_discrepancy, \"%\")"
   ]
  },
  {
   "cell_type": "code",
   "execution_count": null,
   "metadata": {
    "collapsed": true
   },
   "outputs": [],
   "source": []
  },
  {
   "cell_type": "code",
   "execution_count": 36,
   "metadata": {
    "collapsed": true
   },
   "outputs": [],
   "source": [
    "# Problems and questions part 7.4"
   ]
  },
  {
   "cell_type": "code",
   "execution_count": 37,
   "metadata": {
    "collapsed": false
   },
   "outputs": [
    {
     "data": {
      "image/png": "[encoded data removed]",
      "text/plain": [
       "<matplotlib.figure.Figure at 0x17c5e1260b8>"
      ]
     },
     "metadata": {},
     "output_type": "display_data"
    }
   ],
   "source": [
    "# Plotting all curves together (angles)\n",
    "plt.cla()   # Clear axis\n",
    "plt.clf()   # Clear figure\n",
    "plt.close() # Close a figure window\n",
    "\n",
    "plt.plot(ang_Zn, int_Zn, 'b')\n",
    "plt.plot(ang_Cu, int_Cu, 'g')\n",
    "plt.plot(ang_Ni, int_Ni, 'r')\n",
    "plt.plot(ang_no_filter, int_no_filter, 'c')\n",
    "plt.xlabel(\"$\\\\theta$\")\n",
    "plt.ylabel(\"Intensity\")\n",
    "#plt.xlim(15,23)\n",
    "#plt.ylim(0, 2000)\n",
    "plt.show()\n",
    "#plt.savefig(\"Part7_4.pdf\")"
   ]
  },
  {
   "cell_type": "code",
   "execution_count": 38,
   "metadata": {
    "collapsed": false
   },
   "outputs": [
    {
     "data": {
      "image/png": "[encoded data removed]",
      "text/plain": [
       "<matplotlib.figure.Figure at 0x17c5df3c550>"
      ]
     },
     "metadata": {},
     "output_type": "display_data"
    }
   ],
   "source": [
    "# Plotting all curves together (energies)\n",
    "plt.cla()   # Clear axis\n",
    "plt.clf()   # Clear figure\n",
    "plt.close() # Close a figure window\n",
    "\n",
    "plt.plot(e_Zn, int_Zn, 'b')\n",
    "plt.plot(e_Cu, int_Cu, 'g')\n",
    "plt.plot(e_Ni, int_Ni, 'r')\n",
    "plt.plot(e_no_filter, int_no_filter, 'c')\n",
    "plt.xlabel(\"Energy [eV]\")\n",
    "plt.ylabel(\"Intensity\")\n",
    "#plt.xlim(15,23)\n",
    "#plt.ylim(0, 2000)\n",
    "plt.show()\n",
    "#plt.savefig(\"Part7_4_e.pdf\")"
   ]
  },
  {
   "cell_type": "code",
   "execution_count": null,
   "metadata": {
    "collapsed": true
   },
   "outputs": [],
   "source": []
  },
  {
   "cell_type": "code",
   "execution_count": 39,
   "metadata": {
    "collapsed": true
   },
   "outputs": [],
   "source": [
    "# Problems and questions part 7.5"
   ]
  },
  {
   "cell_type": "code",
   "execution_count": 40,
   "metadata": {
    "collapsed": false
   },
   "outputs": [],
   "source": [
    "# Calculating transmissions:\n",
    "trans_Ni = []\n",
    "trans_Cu = []\n",
    "trans_Zn = []\n",
    "\n",
    "for x in range(len(int_Ni)):\n",
    "    trans = int_Ni[x]/int_no_filter[x]\n",
    "    trans_Ni.append(trans)\n",
    "    \n",
    "for x in range(len(int_Cu)):\n",
    "    trans = int_Cu[x]/int_no_filter[x]\n",
    "    trans_Cu.append(trans)\n",
    "    \n",
    "for x in range(len(int_Zn)):\n",
    "    trans = int_Zn[x]/int_no_filter[x]\n",
    "    trans_Zn.append(trans)"
   ]
  },
  {
   "cell_type": "code",
   "execution_count": 43,
   "metadata": {
    "collapsed": false
   },
   "outputs": [
    {
     "data": {
      "image/png": "[encoded data removed]",
      "text/plain": [
       "<matplotlib.figure.Figure at 0x17c5e05e240>"
      ]
     },
     "metadata": {},
     "output_type": "display_data"
    }
   ],
   "source": [
    "# Plotting all transmissions together\n",
    "plt.cla()   # Clear axis\n",
    "plt.clf()   # Clear figure\n",
    "plt.close() # Close a figure window\n",
    "\n",
    "plt.plot(ang_Zn, trans_Zn, 'b')\n",
    "plt.plot(ang_Cu, trans_Cu, 'g')\n",
    "plt.plot(ang_Ni, trans_Ni, 'r')\n",
    "plt.xlabel(\"$\\\\theta$\")\n",
    "plt.ylabel(\"Transmission I/$I_0$\")\n",
    "plt.show()\n",
    "#plt.savefig(\"Part7_5.pdf\")"
   ]
  },
  {
   "cell_type": "code",
   "execution_count": null,
   "metadata": {
    "collapsed": true
   },
   "outputs": [],
   "source": []
  },
  {
   "cell_type": "code",
   "execution_count": null,
   "metadata": {
    "collapsed": true
   },
   "outputs": [],
   "source": []
  }
 ],
 "metadata": {
  "kernelspec": {
   "display_name": "Python 3",
   "language": "python",
   "name": "python3"
  },
  "language_info": {
   "codemirror_mode": {
    "name": "ipython",
    "version": 3
   },
   "file_extension": ".py",
   "mimetype": "text/x-python",
   "name": "python",
   "nbconvert_exporter": "python",
   "pygments_lexer": "ipython3",
   "version": "3.6.0"
  }
 },
 "nbformat": 4,
 "nbformat_minor": 2
}
